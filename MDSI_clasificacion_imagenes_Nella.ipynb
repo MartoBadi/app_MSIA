{
 "cells": [
  {
   "cell_type": "code",
   "execution_count": 29,
   "metadata": {},
   "outputs": [],
   "source": [
    "# Importar librerías necesarias\n",
    "import pandas as pd\n",
    "import matplotlib.pyplot as plt\n",
    "import numpy as np\n",
    "import seaborn as sns\n",
    "import tensorflow as tf\n",
    "from tensorflow.keras.preprocessing.image import ImageDataGenerator\n",
    "from tensorflow.keras.applications import Xception\n",
    "from tensorflow.keras import layers, models\n",
    "from tensorflow.keras.optimizers import Adam\n",
    "import os\n",
    "import shutil"
   ]
  },
  {
   "cell_type": "code",
   "execution_count": 30,
   "metadata": {},
   "outputs": [],
   "source": [
    "# Ruta relativa del dataset local\n",
    "train_dir = './Wonders of World/train' \n",
    "val_dir = './Wonders of World/val'\n",
    "test_dir = './Wonders of World/test'"
   ]
  },
  {
   "cell_type": "code",
   "execution_count": 31,
   "metadata": {},
   "outputs": [
    {
     "name": "stdout",
     "output_type": "stream",
     "text": [
      "Data source import complete.\n"
     ]
    }
   ],
   "source": [
    "# Verifica si las rutas existen\n",
    "if os.path.exists(train_dir) and os.path.exists(val_dir) and os.path.exists(test_dir):\n",
    "    print('Data source import complete.')\n",
    "else:\n",
    "    print('Error: Una o más rutas especificadas no existen.')"
   ]
  },
  {
   "cell_type": "code",
   "execution_count": 32,
   "metadata": {},
   "outputs": [],
   "source": [
    "# Establecer semilla fija para reproducibilidad\n",
    "seed = 1728676400\n",
    "os.environ['PYTHONHASHSEED'] = str(seed)\n",
    "np.random.seed(seed)\n",
    "tf.random.set_seed(seed)"
   ]
  },
  {
   "cell_type": "code",
   "execution_count": 33,
   "metadata": {},
   "outputs": [
    {
     "name": "stdout",
     "output_type": "stream",
     "text": [
      "Found 2305 images belonging to 12 classes.\n",
      "Found 401 images belonging to 12 classes.\n",
      "Found 570 images belonging to 12 classes.\n"
     ]
    }
   ],
   "source": [
    "# Generadores de datos con ImageDataGenerator\n",
    "datagen_train = ImageDataGenerator(\n",
    "    rescale=1./255,\n",
    "    rotation_range=40,\n",
    "    width_shift_range=0.2,\n",
    "    height_shift_range=0.2,\n",
    "    shear_range=0.2,\n",
    "    zoom_range=0.2,\n",
    "    horizontal_flip=True,\n",
    "    fill_mode='nearest',\n",
    "    validation_split=0.15  # División de validación\n",
    ")\n",
    "\n",
    "datagen_test = ImageDataGenerator(rescale=1./255)\n",
    "\n",
    "train_generator = datagen_train.flow_from_directory(\n",
    "    train_dir,\n",
    "    target_size=(224, 224),\n",
    "    batch_size=32,\n",
    "    class_mode='categorical',\n",
    "    subset='training',\n",
    "    seed=seed\n",
    ")\n",
    "\n",
    "val_generator = datagen_train.flow_from_directory(\n",
    "    train_dir,\n",
    "    target_size=(224, 224),\n",
    "    batch_size=32,\n",
    "    class_mode='categorical',\n",
    "    subset='validation',\n",
    "    seed=seed\n",
    ")\n",
    "\n",
    "test_generator = datagen_test.flow_from_directory(\n",
    "    test_dir,\n",
    "    target_size=(224, 224),\n",
    "    batch_size=32,\n",
    "    class_mode='categorical',\n",
    "    seed=seed\n",
    ")"
   ]
  },
  {
   "cell_type": "code",
   "execution_count": 34,
   "metadata": {},
   "outputs": [],
   "source": [
    "# Cargar modelo preentrenado Xception\n",
    "base_model = Xception(weights='imagenet', include_top=False, input_shape=(224, 224, 3))\n",
    "base_model.trainable = False"
   ]
  },
  {
   "cell_type": "code",
   "execution_count": 35,
   "metadata": {},
   "outputs": [
    {
     "data": {
      "text/html": [
       "<pre style=\"white-space:pre;overflow-x:auto;line-height:normal;font-family:Menlo,'DejaVu Sans Mono',consolas,'Courier New',monospace\"><span style=\"font-weight: bold\">Model: \"sequential_1\"</span>\n",
       "</pre>\n"
      ],
      "text/plain": [
       "\u001b[1mModel: \"sequential_1\"\u001b[0m\n"
      ]
     },
     "metadata": {},
     "output_type": "display_data"
    },
    {
     "data": {
      "text/html": [
       "<pre style=\"white-space:pre;overflow-x:auto;line-height:normal;font-family:Menlo,'DejaVu Sans Mono',consolas,'Courier New',monospace\">┏━━━━━━━━━━━━━━━━━━━━━━━━━━━━━━━━━┳━━━━━━━━━━━━━━━━━━━━━━━━┳━━━━━━━━━━━━━━━┓\n",
       "┃<span style=\"font-weight: bold\"> Layer (type)                    </span>┃<span style=\"font-weight: bold\"> Output Shape           </span>┃<span style=\"font-weight: bold\">       Param # </span>┃\n",
       "┡━━━━━━━━━━━━━━━━━━━━━━━━━━━━━━━━━╇━━━━━━━━━━━━━━━━━━━━━━━━╇━━━━━━━━━━━━━━━┩\n",
       "│ xception (<span style=\"color: #0087ff; text-decoration-color: #0087ff\">Functional</span>)           │ (<span style=\"color: #00d7ff; text-decoration-color: #00d7ff\">None</span>, <span style=\"color: #00af00; text-decoration-color: #00af00\">7</span>, <span style=\"color: #00af00; text-decoration-color: #00af00\">7</span>, <span style=\"color: #00af00; text-decoration-color: #00af00\">2048</span>)     │    <span style=\"color: #00af00; text-decoration-color: #00af00\">20,861,480</span> │\n",
       "├─────────────────────────────────┼────────────────────────┼───────────────┤\n",
       "│ global_average_pooling2d_1      │ (<span style=\"color: #00d7ff; text-decoration-color: #00d7ff\">None</span>, <span style=\"color: #00af00; text-decoration-color: #00af00\">2048</span>)           │             <span style=\"color: #00af00; text-decoration-color: #00af00\">0</span> │\n",
       "│ (<span style=\"color: #0087ff; text-decoration-color: #0087ff\">GlobalAveragePooling2D</span>)        │                        │               │\n",
       "├─────────────────────────────────┼────────────────────────┼───────────────┤\n",
       "│ dense_2 (<span style=\"color: #0087ff; text-decoration-color: #0087ff\">Dense</span>)                 │ (<span style=\"color: #00d7ff; text-decoration-color: #00d7ff\">None</span>, <span style=\"color: #00af00; text-decoration-color: #00af00\">1024</span>)           │     <span style=\"color: #00af00; text-decoration-color: #00af00\">2,098,176</span> │\n",
       "├─────────────────────────────────┼────────────────────────┼───────────────┤\n",
       "│ dropout_1 (<span style=\"color: #0087ff; text-decoration-color: #0087ff\">Dropout</span>)             │ (<span style=\"color: #00d7ff; text-decoration-color: #00d7ff\">None</span>, <span style=\"color: #00af00; text-decoration-color: #00af00\">1024</span>)           │             <span style=\"color: #00af00; text-decoration-color: #00af00\">0</span> │\n",
       "├─────────────────────────────────┼────────────────────────┼───────────────┤\n",
       "│ dense_3 (<span style=\"color: #0087ff; text-decoration-color: #0087ff\">Dense</span>)                 │ (<span style=\"color: #00d7ff; text-decoration-color: #00d7ff\">None</span>, <span style=\"color: #00af00; text-decoration-color: #00af00\">12</span>)             │        <span style=\"color: #00af00; text-decoration-color: #00af00\">12,300</span> │\n",
       "└─────────────────────────────────┴────────────────────────┴───────────────┘\n",
       "</pre>\n"
      ],
      "text/plain": [
       "┏━━━━━━━━━━━━━━━━━━━━━━━━━━━━━━━━━┳━━━━━━━━━━━━━━━━━━━━━━━━┳━━━━━━━━━━━━━━━┓\n",
       "┃\u001b[1m \u001b[0m\u001b[1mLayer (type)                   \u001b[0m\u001b[1m \u001b[0m┃\u001b[1m \u001b[0m\u001b[1mOutput Shape          \u001b[0m\u001b[1m \u001b[0m┃\u001b[1m \u001b[0m\u001b[1m      Param #\u001b[0m\u001b[1m \u001b[0m┃\n",
       "┡━━━━━━━━━━━━━━━━━━━━━━━━━━━━━━━━━╇━━━━━━━━━━━━━━━━━━━━━━━━╇━━━━━━━━━━━━━━━┩\n",
       "│ xception (\u001b[38;5;33mFunctional\u001b[0m)           │ (\u001b[38;5;45mNone\u001b[0m, \u001b[38;5;34m7\u001b[0m, \u001b[38;5;34m7\u001b[0m, \u001b[38;5;34m2048\u001b[0m)     │    \u001b[38;5;34m20,861,480\u001b[0m │\n",
       "├─────────────────────────────────┼────────────────────────┼───────────────┤\n",
       "│ global_average_pooling2d_1      │ (\u001b[38;5;45mNone\u001b[0m, \u001b[38;5;34m2048\u001b[0m)           │             \u001b[38;5;34m0\u001b[0m │\n",
       "│ (\u001b[38;5;33mGlobalAveragePooling2D\u001b[0m)        │                        │               │\n",
       "├─────────────────────────────────┼────────────────────────┼───────────────┤\n",
       "│ dense_2 (\u001b[38;5;33mDense\u001b[0m)                 │ (\u001b[38;5;45mNone\u001b[0m, \u001b[38;5;34m1024\u001b[0m)           │     \u001b[38;5;34m2,098,176\u001b[0m │\n",
       "├─────────────────────────────────┼────────────────────────┼───────────────┤\n",
       "│ dropout_1 (\u001b[38;5;33mDropout\u001b[0m)             │ (\u001b[38;5;45mNone\u001b[0m, \u001b[38;5;34m1024\u001b[0m)           │             \u001b[38;5;34m0\u001b[0m │\n",
       "├─────────────────────────────────┼────────────────────────┼───────────────┤\n",
       "│ dense_3 (\u001b[38;5;33mDense\u001b[0m)                 │ (\u001b[38;5;45mNone\u001b[0m, \u001b[38;5;34m12\u001b[0m)             │        \u001b[38;5;34m12,300\u001b[0m │\n",
       "└─────────────────────────────────┴────────────────────────┴───────────────┘\n"
      ]
     },
     "metadata": {},
     "output_type": "display_data"
    },
    {
     "data": {
      "text/html": [
       "<pre style=\"white-space:pre;overflow-x:auto;line-height:normal;font-family:Menlo,'DejaVu Sans Mono',consolas,'Courier New',monospace\"><span style=\"font-weight: bold\"> Total params: </span><span style=\"color: #00af00; text-decoration-color: #00af00\">22,971,956</span> (87.63 MB)\n",
       "</pre>\n"
      ],
      "text/plain": [
       "\u001b[1m Total params: \u001b[0m\u001b[38;5;34m22,971,956\u001b[0m (87.63 MB)\n"
      ]
     },
     "metadata": {},
     "output_type": "display_data"
    },
    {
     "data": {
      "text/html": [
       "<pre style=\"white-space:pre;overflow-x:auto;line-height:normal;font-family:Menlo,'DejaVu Sans Mono',consolas,'Courier New',monospace\"><span style=\"font-weight: bold\"> Trainable params: </span><span style=\"color: #00af00; text-decoration-color: #00af00\">2,110,476</span> (8.05 MB)\n",
       "</pre>\n"
      ],
      "text/plain": [
       "\u001b[1m Trainable params: \u001b[0m\u001b[38;5;34m2,110,476\u001b[0m (8.05 MB)\n"
      ]
     },
     "metadata": {},
     "output_type": "display_data"
    },
    {
     "data": {
      "text/html": [
       "<pre style=\"white-space:pre;overflow-x:auto;line-height:normal;font-family:Menlo,'DejaVu Sans Mono',consolas,'Courier New',monospace\"><span style=\"font-weight: bold\"> Non-trainable params: </span><span style=\"color: #00af00; text-decoration-color: #00af00\">20,861,480</span> (79.58 MB)\n",
       "</pre>\n"
      ],
      "text/plain": [
       "\u001b[1m Non-trainable params: \u001b[0m\u001b[38;5;34m20,861,480\u001b[0m (79.58 MB)\n"
      ]
     },
     "metadata": {},
     "output_type": "display_data"
    }
   ],
   "source": [
    "# Crear el modelo\n",
    "model = models.Sequential([\n",
    "    base_model,\n",
    "    layers.GlobalAveragePooling2D(),\n",
    "    layers.Dense(1024, activation='relu'),\n",
    "    layers.Dropout(0.2),\n",
    "    layers.Dense(train_generator.num_classes, activation='softmax')\n",
    "])\n",
    "\n",
    "model.compile(optimizer=Adam(learning_rate=0.001),\n",
    "              loss='categorical_crossentropy',\n",
    "              metrics=['accuracy'])\n",
    "\n",
    "model.summary()"
   ]
  },
  {
   "cell_type": "code",
   "execution_count": 36,
   "metadata": {},
   "outputs": [
    {
     "name": "stderr",
     "output_type": "stream",
     "text": [
      "c:\\Python311\\Lib\\site-packages\\keras\\src\\trainers\\data_adapters\\py_dataset_adapter.py:121: UserWarning: Your `PyDataset` class should call `super().__init__(**kwargs)` in its constructor. `**kwargs` can include `workers`, `use_multiprocessing`, `max_queue_size`. Do not pass these arguments to `fit()`, as they will be ignored.\n",
      "  self._warn_if_super_not_called()\n"
     ]
    },
    {
     "name": "stdout",
     "output_type": "stream",
     "text": [
      "Epoch 1/30\n",
      "73/73 - 285s - 4s/step - accuracy: 0.6703 - loss: 1.0103 - val_accuracy: 0.8404 - val_loss: 0.5583\n",
      "Epoch 2/30\n",
      "73/73 - 276s - 4s/step - accuracy: 0.8299 - loss: 0.5459 - val_accuracy: 0.8379 - val_loss: 0.5078\n",
      "Epoch 3/30\n",
      "73/73 - 276s - 4s/step - accuracy: 0.8564 - loss: 0.4462 - val_accuracy: 0.8753 - val_loss: 0.4141\n",
      "Epoch 4/30\n",
      "73/73 - 276s - 4s/step - accuracy: 0.8529 - loss: 0.4252 - val_accuracy: 0.8753 - val_loss: 0.3701\n",
      "Epoch 5/30\n",
      "73/73 - 274s - 4s/step - accuracy: 0.8785 - loss: 0.3679 - val_accuracy: 0.8479 - val_loss: 0.4691\n",
      "Epoch 6/30\n",
      "73/73 - 276s - 4s/step - accuracy: 0.8937 - loss: 0.2965 - val_accuracy: 0.8853 - val_loss: 0.3869\n",
      "Epoch 7/30\n",
      "73/73 - 271s - 4s/step - accuracy: 0.8742 - loss: 0.3988 - val_accuracy: 0.8728 - val_loss: 0.4407\n",
      "Epoch 8/30\n",
      "73/73 - 271s - 4s/step - accuracy: 0.8976 - loss: 0.3090 - val_accuracy: 0.8579 - val_loss: 0.4237\n",
      "Epoch 9/30\n",
      "73/73 - 271s - 4s/step - accuracy: 0.9046 - loss: 0.2807 - val_accuracy: 0.8404 - val_loss: 0.4988\n",
      "Epoch 10/30\n",
      "73/73 - 270s - 4s/step - accuracy: 0.9054 - loss: 0.3029 - val_accuracy: 0.8080 - val_loss: 0.6029\n",
      "Epoch 11/30\n",
      "73/73 - 270s - 4s/step - accuracy: 0.8733 - loss: 0.3715 - val_accuracy: 0.8828 - val_loss: 0.3978\n",
      "Epoch 12/30\n",
      "73/73 - 269s - 4s/step - accuracy: 0.8989 - loss: 0.2873 - val_accuracy: 0.7955 - val_loss: 0.7506\n",
      "Epoch 13/30\n",
      "73/73 - 267s - 4s/step - accuracy: 0.8989 - loss: 0.2961 - val_accuracy: 0.8803 - val_loss: 0.3831\n",
      "Epoch 14/30\n",
      "73/73 - 268s - 4s/step - accuracy: 0.9145 - loss: 0.2548 - val_accuracy: 0.8928 - val_loss: 0.3719\n",
      "Epoch 15/30\n",
      "73/73 - 268s - 4s/step - accuracy: 0.9111 - loss: 0.2695 - val_accuracy: 0.8903 - val_loss: 0.3418\n",
      "Epoch 16/30\n",
      "73/73 - 268s - 4s/step - accuracy: 0.9236 - loss: 0.2156 - val_accuracy: 0.8878 - val_loss: 0.3669\n",
      "Epoch 17/30\n",
      "73/73 - 266s - 4s/step - accuracy: 0.9189 - loss: 0.2386 - val_accuracy: 0.9177 - val_loss: 0.2448\n",
      "Epoch 18/30\n",
      "73/73 - 271s - 4s/step - accuracy: 0.8950 - loss: 0.3393 - val_accuracy: 0.8753 - val_loss: 0.4395\n",
      "Epoch 19/30\n",
      "73/73 - 269s - 4s/step - accuracy: 0.9310 - loss: 0.2108 - val_accuracy: 0.9052 - val_loss: 0.2984\n",
      "Epoch 20/30\n",
      "73/73 - 278s - 4s/step - accuracy: 0.9293 - loss: 0.2057 - val_accuracy: 0.8878 - val_loss: 0.4063\n",
      "Epoch 21/30\n",
      "73/73 - 271s - 4s/step - accuracy: 0.9267 - loss: 0.2058 - val_accuracy: 0.9027 - val_loss: 0.3179\n",
      "Epoch 22/30\n",
      "73/73 - 271s - 4s/step - accuracy: 0.9380 - loss: 0.1802 - val_accuracy: 0.8953 - val_loss: 0.2983\n",
      "Epoch 23/30\n",
      "73/73 - 270s - 4s/step - accuracy: 0.9345 - loss: 0.1718 - val_accuracy: 0.8878 - val_loss: 0.3222\n",
      "Epoch 24/30\n",
      "73/73 - 270s - 4s/step - accuracy: 0.9492 - loss: 0.1445 - val_accuracy: 0.9302 - val_loss: 0.2134\n",
      "Epoch 25/30\n",
      "73/73 - 271s - 4s/step - accuracy: 0.9406 - loss: 0.1743 - val_accuracy: 0.8953 - val_loss: 0.3202\n",
      "Epoch 26/30\n",
      "73/73 - 270s - 4s/step - accuracy: 0.9393 - loss: 0.1875 - val_accuracy: 0.9177 - val_loss: 0.2710\n",
      "Epoch 27/30\n",
      "73/73 - 269s - 4s/step - accuracy: 0.9531 - loss: 0.1525 - val_accuracy: 0.8978 - val_loss: 0.3082\n",
      "Epoch 28/30\n",
      "73/73 - 269s - 4s/step - accuracy: 0.9341 - loss: 0.1790 - val_accuracy: 0.9127 - val_loss: 0.3150\n",
      "Epoch 29/30\n",
      "73/73 - 268s - 4s/step - accuracy: 0.9479 - loss: 0.1547 - val_accuracy: 0.8978 - val_loss: 0.3197\n",
      "Epoch 30/30\n",
      "73/73 - 269s - 4s/step - accuracy: 0.9423 - loss: 0.1612 - val_accuracy: 0.9052 - val_loss: 0.2864\n"
     ]
    },
    {
     "data": {
      "text/plain": [
       "<keras.src.callbacks.history.History at 0x1d9487d2810>"
      ]
     },
     "execution_count": 36,
     "metadata": {},
     "output_type": "execute_result"
    }
   ],
   "source": [
    "# Entrenar el modelo\n",
    "model.fit(\n",
    "    train_generator,\n",
    "    validation_data=val_generator,\n",
    "    epochs=30,\n",
    "    verbose=2\n",
    ")"
   ]
  },
  {
   "cell_type": "code",
   "execution_count": 37,
   "metadata": {},
   "outputs": [
    {
     "name": "stdout",
     "output_type": "stream",
     "text": [
      "\u001b[1m18/18\u001b[0m \u001b[32m━━━━━━━━━━━━━━━━━━━━\u001b[0m\u001b[37m\u001b[0m \u001b[1m55s\u001b[0m 3s/step - accuracy: 0.9081 - loss: 0.2955\n",
      "Test accuracy: 0.9087719321250916\n"
     ]
    }
   ],
   "source": [
    "# Evaluar el modelo\n",
    "test_loss, test_acc = model.evaluate(test_generator, verbose=1)\n",
    "print('Test accuracy:', test_acc)"
   ]
  },
  {
   "cell_type": "code",
   "execution_count": 38,
   "metadata": {},
   "outputs": [],
   "source": [
    "# Guardar el modelo en formato .keras\n",
    "model.save('./modelNella.keras')"
   ]
  },
  {
   "cell_type": "code",
   "execution_count": 39,
   "metadata": {},
   "outputs": [
    {
     "name": "stdout",
     "output_type": "stream",
     "text": [
      "INFO:tensorflow:Assets written to: C:\\Users\\ADMINI~1\\AppData\\Local\\Temp\\tmpk0jew9__\\assets\n"
     ]
    },
    {
     "name": "stderr",
     "output_type": "stream",
     "text": [
      "INFO:tensorflow:Assets written to: C:\\Users\\ADMINI~1\\AppData\\Local\\Temp\\tmpk0jew9__\\assets\n"
     ]
    },
    {
     "name": "stdout",
     "output_type": "stream",
     "text": [
      "Saved artifact at 'C:\\Users\\ADMINI~1\\AppData\\Local\\Temp\\tmpk0jew9__'. The following endpoints are available:\n",
      "\n",
      "* Endpoint 'serve'\n",
      "  args_0 (POSITIONAL_ONLY): TensorSpec(shape=(None, 224, 224, 3), dtype=tf.float32, name='keras_tensor_270')\n",
      "Output Type:\n",
      "  TensorSpec(shape=(None, 12), dtype=tf.float32, name=None)\n",
      "Captures:\n",
      "  2033424880400: TensorSpec(shape=(), dtype=tf.resource, name=None)\n",
      "  2033424890192: TensorSpec(shape=(), dtype=tf.resource, name=None)\n",
      "  2033424890000: TensorSpec(shape=(), dtype=tf.resource, name=None)\n",
      "  2033424891152: TensorSpec(shape=(), dtype=tf.resource, name=None)\n",
      "  2033424890960: TensorSpec(shape=(), dtype=tf.resource, name=None)\n",
      "  2033424889616: TensorSpec(shape=(), dtype=tf.resource, name=None)\n",
      "  2033424888272: TensorSpec(shape=(), dtype=tf.resource, name=None)\n",
      "  2033424888080: TensorSpec(shape=(), dtype=tf.resource, name=None)\n",
      "  2033424888464: TensorSpec(shape=(), dtype=tf.resource, name=None)\n",
      "  2033424889232: TensorSpec(shape=(), dtype=tf.resource, name=None)\n",
      "  2033424885776: TensorSpec(shape=(), dtype=tf.resource, name=None)\n",
      "  2033424885392: TensorSpec(shape=(), dtype=tf.resource, name=None)\n",
      "  2033424884048: TensorSpec(shape=(), dtype=tf.resource, name=None)\n",
      "  2033424883856: TensorSpec(shape=(), dtype=tf.resource, name=None)\n",
      "  2033424891728: TensorSpec(shape=(), dtype=tf.resource, name=None)\n",
      "  2033424884432: TensorSpec(shape=(), dtype=tf.resource, name=None)\n",
      "  2033424883472: TensorSpec(shape=(), dtype=tf.resource, name=None)\n",
      "  2033424883088: TensorSpec(shape=(), dtype=tf.resource, name=None)\n",
      "  2033424887696: TensorSpec(shape=(), dtype=tf.resource, name=None)\n",
      "  2033424881744: TensorSpec(shape=(), dtype=tf.resource, name=None)\n",
      "  2033424881552: TensorSpec(shape=(), dtype=tf.resource, name=None)\n",
      "  2033424884624: TensorSpec(shape=(), dtype=tf.resource, name=None)\n",
      "  2033424882128: TensorSpec(shape=(), dtype=tf.resource, name=None)\n",
      "  2033424886352: TensorSpec(shape=(), dtype=tf.resource, name=None)\n",
      "  2033424886160: TensorSpec(shape=(), dtype=tf.resource, name=None)\n",
      "  2033424886544: TensorSpec(shape=(), dtype=tf.resource, name=None)\n",
      "  2033424887312: TensorSpec(shape=(), dtype=tf.resource, name=None)\n",
      "  2033537139536: TensorSpec(shape=(), dtype=tf.resource, name=None)\n",
      "  2033537140112: TensorSpec(shape=(), dtype=tf.resource, name=None)\n",
      "  2033537141456: TensorSpec(shape=(), dtype=tf.resource, name=None)\n",
      "  2033537141648: TensorSpec(shape=(), dtype=tf.resource, name=None)\n",
      "  2033537138768: TensorSpec(shape=(), dtype=tf.resource, name=None)\n",
      "  2033537141072: TensorSpec(shape=(), dtype=tf.resource, name=None)\n",
      "  2033537142032: TensorSpec(shape=(), dtype=tf.resource, name=None)\n",
      "  2033537142416: TensorSpec(shape=(), dtype=tf.resource, name=None)\n",
      "  2033424881168: TensorSpec(shape=(), dtype=tf.resource, name=None)\n",
      "  2033537143760: TensorSpec(shape=(), dtype=tf.resource, name=None)\n",
      "  2033537143952: TensorSpec(shape=(), dtype=tf.resource, name=None)\n",
      "  2033537140880: TensorSpec(shape=(), dtype=tf.resource, name=None)\n",
      "  2033537143376: TensorSpec(shape=(), dtype=tf.resource, name=None)\n",
      "  2033537138960: TensorSpec(shape=(), dtype=tf.resource, name=None)\n",
      "  2033537139728: TensorSpec(shape=(), dtype=tf.resource, name=None)\n",
      "  2033424882320: TensorSpec(shape=(), dtype=tf.resource, name=None)\n",
      "  2033424880208: TensorSpec(shape=(), dtype=tf.resource, name=None)\n",
      "  2033537146256: TensorSpec(shape=(), dtype=tf.resource, name=None)\n",
      "  2033537146640: TensorSpec(shape=(), dtype=tf.resource, name=None)\n",
      "  2033537147984: TensorSpec(shape=(), dtype=tf.resource, name=None)\n",
      "  2033537148176: TensorSpec(shape=(), dtype=tf.resource, name=None)\n",
      "  2033537143184: TensorSpec(shape=(), dtype=tf.resource, name=None)\n",
      "  2033537147600: TensorSpec(shape=(), dtype=tf.resource, name=None)\n",
      "  2033537148560: TensorSpec(shape=(), dtype=tf.resource, name=None)\n",
      "  2033537148944: TensorSpec(shape=(), dtype=tf.resource, name=None)\n",
      "  2033537144336: TensorSpec(shape=(), dtype=tf.resource, name=None)\n",
      "  2033537150288: TensorSpec(shape=(), dtype=tf.resource, name=None)\n",
      "  2033537150480: TensorSpec(shape=(), dtype=tf.resource, name=None)\n",
      "  2033537147408: TensorSpec(shape=(), dtype=tf.resource, name=None)\n",
      "  2033537149904: TensorSpec(shape=(), dtype=tf.resource, name=None)\n",
      "  2033537145680: TensorSpec(shape=(), dtype=tf.resource, name=None)\n",
      "  2033537145872: TensorSpec(shape=(), dtype=tf.resource, name=None)\n",
      "  2033537145488: TensorSpec(shape=(), dtype=tf.resource, name=None)\n",
      "  2033537144720: TensorSpec(shape=(), dtype=tf.resource, name=None)\n",
      "  2033537150864: TensorSpec(shape=(), dtype=tf.resource, name=None)\n",
      "  2033537151248: TensorSpec(shape=(), dtype=tf.resource, name=None)\n",
      "  2033537152592: TensorSpec(shape=(), dtype=tf.resource, name=None)\n",
      "  2033537152784: TensorSpec(shape=(), dtype=tf.resource, name=None)\n",
      "  2033537149712: TensorSpec(shape=(), dtype=tf.resource, name=None)\n",
      "  2033537152208: TensorSpec(shape=(), dtype=tf.resource, name=None)\n",
      "  2033537153168: TensorSpec(shape=(), dtype=tf.resource, name=None)\n",
      "  2033537153552: TensorSpec(shape=(), dtype=tf.resource, name=None)\n",
      "  2033537154896: TensorSpec(shape=(), dtype=tf.resource, name=None)\n",
      "  2033537152016: TensorSpec(shape=(), dtype=tf.resource, name=None)\n",
      "  2033537154128: TensorSpec(shape=(), dtype=tf.resource, name=None)\n",
      "  2033537153936: TensorSpec(shape=(), dtype=tf.resource, name=None)\n",
      "  2032744530384: TensorSpec(shape=(), dtype=tf.resource, name=None)\n",
      "  2032744530960: TensorSpec(shape=(), dtype=tf.resource, name=None)\n",
      "  2032744532112: TensorSpec(shape=(), dtype=tf.resource, name=None)\n",
      "  2032744532304: TensorSpec(shape=(), dtype=tf.resource, name=None)\n",
      "  2032744531152: TensorSpec(shape=(), dtype=tf.resource, name=None)\n",
      "  2032744531728: TensorSpec(shape=(), dtype=tf.resource, name=None)\n",
      "  2032744532688: TensorSpec(shape=(), dtype=tf.resource, name=None)\n",
      "  2032744533072: TensorSpec(shape=(), dtype=tf.resource, name=None)\n",
      "  2032744534416: TensorSpec(shape=(), dtype=tf.resource, name=None)\n",
      "  2032744534608: TensorSpec(shape=(), dtype=tf.resource, name=None)\n",
      "  2032744531536: TensorSpec(shape=(), dtype=tf.resource, name=None)\n",
      "  2032744534032: TensorSpec(shape=(), dtype=tf.resource, name=None)\n",
      "  2032744534992: TensorSpec(shape=(), dtype=tf.resource, name=None)\n",
      "  2032744535376: TensorSpec(shape=(), dtype=tf.resource, name=None)\n",
      "  2032744536720: TensorSpec(shape=(), dtype=tf.resource, name=None)\n",
      "  2032744536912: TensorSpec(shape=(), dtype=tf.resource, name=None)\n",
      "  2032744533840: TensorSpec(shape=(), dtype=tf.resource, name=None)\n",
      "  2032744536336: TensorSpec(shape=(), dtype=tf.resource, name=None)\n",
      "  2032744537296: TensorSpec(shape=(), dtype=tf.resource, name=None)\n",
      "  2032744537680: TensorSpec(shape=(), dtype=tf.resource, name=None)\n",
      "  2032744539024: TensorSpec(shape=(), dtype=tf.resource, name=None)\n",
      "  2032744539216: TensorSpec(shape=(), dtype=tf.resource, name=None)\n",
      "  2032744536144: TensorSpec(shape=(), dtype=tf.resource, name=None)\n",
      "  2032744538640: TensorSpec(shape=(), dtype=tf.resource, name=None)\n",
      "  2032744539600: TensorSpec(shape=(), dtype=tf.resource, name=None)\n",
      "  2032744539984: TensorSpec(shape=(), dtype=tf.resource, name=None)\n",
      "  2032744541328: TensorSpec(shape=(), dtype=tf.resource, name=None)\n",
      "  2032744541520: TensorSpec(shape=(), dtype=tf.resource, name=None)\n",
      "  2032744538448: TensorSpec(shape=(), dtype=tf.resource, name=None)\n",
      "  2032744540944: TensorSpec(shape=(), dtype=tf.resource, name=None)\n",
      "  2032744541904: TensorSpec(shape=(), dtype=tf.resource, name=None)\n",
      "  2032744542288: TensorSpec(shape=(), dtype=tf.resource, name=None)\n",
      "  2032744543632: TensorSpec(shape=(), dtype=tf.resource, name=None)\n",
      "  2032744543824: TensorSpec(shape=(), dtype=tf.resource, name=None)\n",
      "  2032744540752: TensorSpec(shape=(), dtype=tf.resource, name=None)\n",
      "  2032744543248: TensorSpec(shape=(), dtype=tf.resource, name=None)\n",
      "  2032744544208: TensorSpec(shape=(), dtype=tf.resource, name=None)\n",
      "  2032744544592: TensorSpec(shape=(), dtype=tf.resource, name=None)\n",
      "  2032744545936: TensorSpec(shape=(), dtype=tf.resource, name=None)\n",
      "  2032744544976: TensorSpec(shape=(), dtype=tf.resource, name=None)\n",
      "  2032744543056: TensorSpec(shape=(), dtype=tf.resource, name=None)\n",
      "  2032744545552: TensorSpec(shape=(), dtype=tf.resource, name=None)\n",
      "  2032744579344: TensorSpec(shape=(), dtype=tf.resource, name=None)\n",
      "  2032744579920: TensorSpec(shape=(), dtype=tf.resource, name=None)\n",
      "  2032744581072: TensorSpec(shape=(), dtype=tf.resource, name=None)\n",
      "  2032744581264: TensorSpec(shape=(), dtype=tf.resource, name=None)\n",
      "  2032744580112: TensorSpec(shape=(), dtype=tf.resource, name=None)\n",
      "  2032744580688: TensorSpec(shape=(), dtype=tf.resource, name=None)\n",
      "  2032744581648: TensorSpec(shape=(), dtype=tf.resource, name=None)\n",
      "  2032744582032: TensorSpec(shape=(), dtype=tf.resource, name=None)\n",
      "  2032744583376: TensorSpec(shape=(), dtype=tf.resource, name=None)\n",
      "  2032744583568: TensorSpec(shape=(), dtype=tf.resource, name=None)\n",
      "  2032744580496: TensorSpec(shape=(), dtype=tf.resource, name=None)\n",
      "  2032744582992: TensorSpec(shape=(), dtype=tf.resource, name=None)\n",
      "  2032744583952: TensorSpec(shape=(), dtype=tf.resource, name=None)\n",
      "  2032744584336: TensorSpec(shape=(), dtype=tf.resource, name=None)\n",
      "  2032744585680: TensorSpec(shape=(), dtype=tf.resource, name=None)\n",
      "  2032744585872: TensorSpec(shape=(), dtype=tf.resource, name=None)\n",
      "  2032744582800: TensorSpec(shape=(), dtype=tf.resource, name=None)\n",
      "  2032744585296: TensorSpec(shape=(), dtype=tf.resource, name=None)\n",
      "  2032744586256: TensorSpec(shape=(), dtype=tf.resource, name=None)\n",
      "  2032744586640: TensorSpec(shape=(), dtype=tf.resource, name=None)\n",
      "  2032744587984: TensorSpec(shape=(), dtype=tf.resource, name=None)\n",
      "  2032744588176: TensorSpec(shape=(), dtype=tf.resource, name=None)\n",
      "  2032744585104: TensorSpec(shape=(), dtype=tf.resource, name=None)\n",
      "  2032744587600: TensorSpec(shape=(), dtype=tf.resource, name=None)\n",
      "  2032744588560: TensorSpec(shape=(), dtype=tf.resource, name=None)\n",
      "  2032744588944: TensorSpec(shape=(), dtype=tf.resource, name=None)\n",
      "  2032744590288: TensorSpec(shape=(), dtype=tf.resource, name=None)\n",
      "  2032744590480: TensorSpec(shape=(), dtype=tf.resource, name=None)\n",
      "  2032744587408: TensorSpec(shape=(), dtype=tf.resource, name=None)\n",
      "  2032744589904: TensorSpec(shape=(), dtype=tf.resource, name=None)\n",
      "  2032744590864: TensorSpec(shape=(), dtype=tf.resource, name=None)\n",
      "  2032744591248: TensorSpec(shape=(), dtype=tf.resource, name=None)\n",
      "  2032744592592: TensorSpec(shape=(), dtype=tf.resource, name=None)\n",
      "  2032744592784: TensorSpec(shape=(), dtype=tf.resource, name=None)\n",
      "  2032744589712: TensorSpec(shape=(), dtype=tf.resource, name=None)\n",
      "  2032744592208: TensorSpec(shape=(), dtype=tf.resource, name=None)\n",
      "  2032744593168: TensorSpec(shape=(), dtype=tf.resource, name=None)\n",
      "  2032744593552: TensorSpec(shape=(), dtype=tf.resource, name=None)\n",
      "  2032744594896: TensorSpec(shape=(), dtype=tf.resource, name=None)\n",
      "  2032744593936: TensorSpec(shape=(), dtype=tf.resource, name=None)\n",
      "  2032744592016: TensorSpec(shape=(), dtype=tf.resource, name=None)\n",
      "  2032744594512: TensorSpec(shape=(), dtype=tf.resource, name=None)\n",
      "  2032744595088: TensorSpec(shape=(), dtype=tf.resource, name=None)\n",
      "  2032739418768: TensorSpec(shape=(), dtype=tf.resource, name=None)\n",
      "  2032739419920: TensorSpec(shape=(), dtype=tf.resource, name=None)\n",
      "  2032739420112: TensorSpec(shape=(), dtype=tf.resource, name=None)\n",
      "  2032739418192: TensorSpec(shape=(), dtype=tf.resource, name=None)\n",
      "  2032739419536: TensorSpec(shape=(), dtype=tf.resource, name=None)\n",
      "  2032739420496: TensorSpec(shape=(), dtype=tf.resource, name=None)\n",
      "  2032739420880: TensorSpec(shape=(), dtype=tf.resource, name=None)\n",
      "  2032739422224: TensorSpec(shape=(), dtype=tf.resource, name=None)\n",
      "  2032739422416: TensorSpec(shape=(), dtype=tf.resource, name=None)\n",
      "  2032739419344: TensorSpec(shape=(), dtype=tf.resource, name=None)\n",
      "  2032739421840: TensorSpec(shape=(), dtype=tf.resource, name=None)\n",
      "  2032739422800: TensorSpec(shape=(), dtype=tf.resource, name=None)\n",
      "  2032739423184: TensorSpec(shape=(), dtype=tf.resource, name=None)\n",
      "  2032739424528: TensorSpec(shape=(), dtype=tf.resource, name=None)\n",
      "  2032739424720: TensorSpec(shape=(), dtype=tf.resource, name=None)\n",
      "  2032739421648: TensorSpec(shape=(), dtype=tf.resource, name=None)\n",
      "  2032739424144: TensorSpec(shape=(), dtype=tf.resource, name=None)\n",
      "  2032739425104: TensorSpec(shape=(), dtype=tf.resource, name=None)\n",
      "  2032739425488: TensorSpec(shape=(), dtype=tf.resource, name=None)\n",
      "  2032739426832: TensorSpec(shape=(), dtype=tf.resource, name=None)\n",
      "  2032739427024: TensorSpec(shape=(), dtype=tf.resource, name=None)\n",
      "  2032739423952: TensorSpec(shape=(), dtype=tf.resource, name=None)\n",
      "  2032739426448: TensorSpec(shape=(), dtype=tf.resource, name=None)\n",
      "  2032739427408: TensorSpec(shape=(), dtype=tf.resource, name=None)\n",
      "  2032739427792: TensorSpec(shape=(), dtype=tf.resource, name=None)\n",
      "  2032739429136: TensorSpec(shape=(), dtype=tf.resource, name=None)\n",
      "  2032739429328: TensorSpec(shape=(), dtype=tf.resource, name=None)\n",
      "  2032739426256: TensorSpec(shape=(), dtype=tf.resource, name=None)\n",
      "  2032739428752: TensorSpec(shape=(), dtype=tf.resource, name=None)\n",
      "  2032739429712: TensorSpec(shape=(), dtype=tf.resource, name=None)\n",
      "  2032739430096: TensorSpec(shape=(), dtype=tf.resource, name=None)\n",
      "  2032739431440: TensorSpec(shape=(), dtype=tf.resource, name=None)\n",
      "  2032739431632: TensorSpec(shape=(), dtype=tf.resource, name=None)\n",
      "  2032739428560: TensorSpec(shape=(), dtype=tf.resource, name=None)\n",
      "  2032739431056: TensorSpec(shape=(), dtype=tf.resource, name=None)\n",
      "  2032739432016: TensorSpec(shape=(), dtype=tf.resource, name=None)\n",
      "  2032739432400: TensorSpec(shape=(), dtype=tf.resource, name=None)\n",
      "  2032739433744: TensorSpec(shape=(), dtype=tf.resource, name=None)\n",
      "  2032739433936: TensorSpec(shape=(), dtype=tf.resource, name=None)\n",
      "  2032739430864: TensorSpec(shape=(), dtype=tf.resource, name=None)\n",
      "  2032739433360: TensorSpec(shape=(), dtype=tf.resource, name=None)\n",
      "  2032739432784: TensorSpec(shape=(), dtype=tf.resource, name=None)\n",
      "  2032739124624: TensorSpec(shape=(), dtype=tf.resource, name=None)\n",
      "  2032739124816: TensorSpec(shape=(), dtype=tf.resource, name=None)\n",
      "  2032739125008: TensorSpec(shape=(), dtype=tf.resource, name=None)\n",
      "  2032739123280: TensorSpec(shape=(), dtype=tf.resource, name=None)\n",
      "  2032739124432: TensorSpec(shape=(), dtype=tf.resource, name=None)\n",
      "  2032739127312: TensorSpec(shape=(), dtype=tf.resource, name=None)\n",
      "  2032739127696: TensorSpec(shape=(), dtype=tf.resource, name=None)\n",
      "  2032739129040: TensorSpec(shape=(), dtype=tf.resource, name=None)\n",
      "  2032739129232: TensorSpec(shape=(), dtype=tf.resource, name=None)\n",
      "  2032739124240: TensorSpec(shape=(), dtype=tf.resource, name=None)\n",
      "  2032739128656: TensorSpec(shape=(), dtype=tf.resource, name=None)\n",
      "  2032739129616: TensorSpec(shape=(), dtype=tf.resource, name=None)\n",
      "  2032739130000: TensorSpec(shape=(), dtype=tf.resource, name=None)\n",
      "  2032739125392: TensorSpec(shape=(), dtype=tf.resource, name=None)\n",
      "  2032739131344: TensorSpec(shape=(), dtype=tf.resource, name=None)\n",
      "  2032739131536: TensorSpec(shape=(), dtype=tf.resource, name=None)\n",
      "  2032739128464: TensorSpec(shape=(), dtype=tf.resource, name=None)\n",
      "  2032739130960: TensorSpec(shape=(), dtype=tf.resource, name=None)\n",
      "  2032739126736: TensorSpec(shape=(), dtype=tf.resource, name=None)\n",
      "  2032739126928: TensorSpec(shape=(), dtype=tf.resource, name=None)\n",
      "  2032739126544: TensorSpec(shape=(), dtype=tf.resource, name=None)\n",
      "  2032739125776: TensorSpec(shape=(), dtype=tf.resource, name=None)\n",
      "  2032739131920: TensorSpec(shape=(), dtype=tf.resource, name=None)\n",
      "  2032739132304: TensorSpec(shape=(), dtype=tf.resource, name=None)\n",
      "  2032739133648: TensorSpec(shape=(), dtype=tf.resource, name=None)\n",
      "  2032739133840: TensorSpec(shape=(), dtype=tf.resource, name=None)\n",
      "  2032739130768: TensorSpec(shape=(), dtype=tf.resource, name=None)\n",
      "  2032739133264: TensorSpec(shape=(), dtype=tf.resource, name=None)\n",
      "  2032739134224: TensorSpec(shape=(), dtype=tf.resource, name=None)\n",
      "  2032739134608: TensorSpec(shape=(), dtype=tf.resource, name=None)\n",
      "  2032739135952: TensorSpec(shape=(), dtype=tf.resource, name=None)\n",
      "  2032739136144: TensorSpec(shape=(), dtype=tf.resource, name=None)\n",
      "  2032739133072: TensorSpec(shape=(), dtype=tf.resource, name=None)\n",
      "  2032739135568: TensorSpec(shape=(), dtype=tf.resource, name=None)\n",
      "  2032739135760: TensorSpec(shape=(), dtype=tf.resource, name=None)\n",
      "  2032739138256: TensorSpec(shape=(), dtype=tf.resource, name=None)\n",
      "  2032739138448: TensorSpec(shape=(), dtype=tf.resource, name=None)\n",
      "  2032739139024: TensorSpec(shape=(), dtype=tf.resource, name=None)\n"
     ]
    }
   ],
   "source": [
    "# Convertir el modelo a TensorFlow Lite\n",
    "converter = tf.lite.TFLiteConverter.from_keras_model(model)\n",
    "tflite_model = converter.convert()\n",
    "\n",
    "with open('./modelNella.tflite', 'wb') as f:\n",
    "    f.write(tflite_model)"
   ]
  }
 ],
 "metadata": {
  "kernelspec": {
   "display_name": "Python 3",
   "language": "python",
   "name": "python3"
  },
  "language_info": {
   "codemirror_mode": {
    "name": "ipython",
    "version": 3
   },
   "file_extension": ".py",
   "mimetype": "text/x-python",
   "name": "python",
   "nbconvert_exporter": "python",
   "pygments_lexer": "ipython3",
   "version": "3.11.4"
  }
 },
 "nbformat": 4,
 "nbformat_minor": 2
}
