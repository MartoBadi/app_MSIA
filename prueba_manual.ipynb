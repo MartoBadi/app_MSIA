{
 "cells": [
  {
   "cell_type": "code",
   "execution_count": 4,
   "metadata": {},
   "outputs": [
    {
     "name": "stdout",
     "output_type": "stream",
     "text": [
      "Predicciones: [[7.9243812e-09 5.0793151e-05 8.5718111e-06 9.0997328e-11 1.7492981e-01\n",
      "  8.9762980e-05 5.0957208e-08 9.9918337e-11 1.1553545e-09 8.2491124e-01\n",
      "  3.1004177e-08 9.7771672e-06]]\n",
      "La imagen fue clasificada como: stonehenge\n"
     ]
    }
   ],
   "source": [
    "from PIL import Image\n",
    "import numpy as np\n",
    "import tensorflow as tf\n",
    "\n",
    "# Ruta de la imagen y el modelo (ajusta según la ubicación de tus archivos)\n",
    "image_path = r\"C:\\Users\\Lautaro\\Downloads\\imagenes prueba\\residencia-real-machu-picchu.jpg\"\n",
    "model_path = 'modelLautaro.tflite'  # Reemplaza con la ruta a tu modelo TFLite\n",
    "\n",
    "# Cargar el modelo TFLite\n",
    "interpreter = tf.lite.Interpreter(model_path=model_path)\n",
    "interpreter.allocate_tensors()\n",
    "\n",
    "# Obtener detalles de entrada y salida\n",
    "input_details = interpreter.get_input_details()\n",
    "output_details = interpreter.get_output_details()\n",
    "\n",
    "# Cargar y preprocesar la imagen\n",
    "image = Image.open(image_path)\n",
    "image = image.resize((150, 150))  # Cambiar tamaño al que el modelo espera\n",
    "image = np.array(image)\n",
    "\n",
    "# Normalizar la imagen y expandir dimensiones para que sea un batch de tamaño 1\n",
    "input_data = np.expand_dims(image, axis=0)\n",
    "input_data = input_data.astype(np.float32) / 255.0  # Normalizar si es necesario\n",
    "\n",
    "# Hacer la predicción con el modelo TFLite\n",
    "interpreter.set_tensor(input_details[0]['index'], input_data)\n",
    "interpreter.invoke()\n",
    "\n",
    "# Obtener los resultados de la predicción\n",
    "output_data = interpreter.get_tensor(output_details[0]['index'])\n",
    "\n",
    "# Imprimir los resultados\n",
    "print(\"Predicciones:\", output_data)\n",
    "\n",
    "# Obtener la clase con mayor probabilidad\n",
    "predicted_class = np.argmax(output_data)\n",
    "\n",
    "# Lista de nombres de clases\n",
    "class_names = ['burj_khalifa', 'chichen_itza', 'christ the reedemer', 'eiffel_tower',\n",
    "               'great_wall_of_china', 'machu_pichu', 'pyramids_of_giza',\n",
    "               'roman_colosseum', 'statue_of_liberty', 'stonehenge', 'taj_mahal',\n",
    "               'venezuela_angel_falls']\n",
    "\n",
    "# Imprimir el nombre de la clase predicha\n",
    "print(f\"La imagen fue clasificada como: {class_names[predicted_class]}\")\n"
   ]
  }
 ],
 "metadata": {
  "kernelspec": {
   "display_name": "Python 3",
   "language": "python",
   "name": "python3"
  },
  "language_info": {
   "codemirror_mode": {
    "name": "ipython",
    "version": 3
   },
   "file_extension": ".py",
   "mimetype": "text/x-python",
   "name": "python",
   "nbconvert_exporter": "python",
   "pygments_lexer": "ipython3",
   "version": "3.12.6"
  }
 },
 "nbformat": 4,
 "nbformat_minor": 2
}
