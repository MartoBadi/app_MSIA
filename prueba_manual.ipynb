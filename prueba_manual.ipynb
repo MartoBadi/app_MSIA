{
 "cells": [
  {
   "cell_type": "code",
   "execution_count": 9,
   "metadata": {},
   "outputs": [
    {
     "name": "stdout",
     "output_type": "stream",
     "text": [
      "Predicciones: [[1.0468144e-05 8.6081398e-01 5.2149488e-07 1.6894153e-07 6.6104272e-10\n",
      "  1.0085954e-08 9.6349517e-10 1.3910453e-01 4.8924680e-11 4.2585543e-05\n",
      "  2.7540407e-05 3.0799555e-07]]\n",
      "La imagen fue clasificada como: chichen_itza\n"
     ]
    }
   ],
   "source": [
    "from PIL import Image\n",
    "import numpy as np\n",
    "import tensorflow as tf\n",
    "\n",
    "# Ruta de la imagen y el modelo (ajusta según la ubicación de tus archivos)\n",
    "image_path = r\"C:\\Users\\Lautaro\\Downloads\\archive\\Wonders of World\\validation\\venezuela_angel_falls\\venezuela3.jpg\"\n",
    "model_path = 'modelLautaro.tflite'  # Reemplaza con la ruta a tu modelo TFLite\n",
    "\n",
    "# Cargar el modelo TFLite\n",
    "interpreter = tf.lite.Interpreter(model_path=model_path)\n",
    "interpreter.allocate_tensors()\n",
    "\n",
    "# Obtener detalles de entrada y salida\n",
    "input_details = interpreter.get_input_details()\n",
    "output_details = interpreter.get_output_details()\n",
    "\n",
    "# Cargar y preprocesar la imagen\n",
    "image = Image.open(image_path)\n",
    "image = image.resize((150, 150))  # Cambiar tamaño al que el modelo espera\n",
    "image = np.array(image)\n",
    "\n",
    "# Normalizar la imagen y expandir dimensiones para que sea un batch de tamaño 1\n",
    "input_data = np.expand_dims(image, axis=0)\n",
    "input_data = input_data.astype(np.float32) / 255.0  # Normalizar si es necesario\n",
    "\n",
    "# Hacer la predicción con el modelo TFLite\n",
    "interpreter.set_tensor(input_details[0]['index'], input_data)\n",
    "interpreter.invoke()\n",
    "\n",
    "# Obtener los resultados de la predicción\n",
    "output_data = interpreter.get_tensor(output_details[0]['index'])\n",
    "\n",
    "# Imprimir los resultados\n",
    "print(\"Predicciones:\", output_data)\n",
    "\n",
    "# Obtener la clase con mayor probabilidad\n",
    "predicted_class = np.argmax(output_data)\n",
    "\n",
    "# Lista de nombres de clases\n",
    "class_names = ['burj_khalifa', 'chichen_itza', 'christ the reedemer', 'eiffel_tower',\n",
    "               'great_wall_of_china', 'machu_pichu', 'pyramids_of_giza',\n",
    "               'roman_colosseum', 'statue_of_liberty', 'stonehenge', 'taj_mahal',\n",
    "               'venezuela_angel_falls']\n",
    "\n",
    "# Imprimir el nombre de la clase predicha\n",
    "print(f\"La imagen fue clasificada como: {class_names[predicted_class]}\")\n"
   ]
  }
 ],
 "metadata": {
  "kernelspec": {
   "display_name": "Python 3",
   "language": "python",
   "name": "python3"
  },
  "language_info": {
   "codemirror_mode": {
    "name": "ipython",
    "version": 3
   },
   "file_extension": ".py",
   "mimetype": "text/x-python",
   "name": "python",
   "nbconvert_exporter": "python",
   "pygments_lexer": "ipython3",
   "version": "3.12.6"
  }
 },
 "nbformat": 4,
 "nbformat_minor": 2
}
